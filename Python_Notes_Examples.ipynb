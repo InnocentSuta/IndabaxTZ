{
 "cells": [
  {
   "cell_type": "markdown",
   "id": "c3fe29bb",
   "metadata": {},
   "source": [
    "List = ordered, mutabl, allows duplicate elements"
   ]
  },
  {
   "cell_type": "code",
   "execution_count": 4,
   "id": "db3c99d0",
   "metadata": {},
   "outputs": [
    {
     "name": "stdout",
     "output_type": "stream",
     "text": [
      "['Banana', 'apple', 'mango']\n",
      "mango\n"
     ]
    }
   ],
   "source": [
    "myList = [\"Banana\", \"apple\",\"mango\"]\n",
    "\n",
    "print(myList)\n",
    "\n",
    "item = myList[2]\n",
    "print(item)"
   ]
  },
  {
   "cell_type": "code",
   "execution_count": 7,
   "id": "f06ab79a",
   "metadata": {},
   "outputs": [
    {
     "name": "stdout",
     "output_type": "stream",
     "text": [
      "Banana\n",
      "apple\n",
      "mango\n",
      "Yes\n"
     ]
    }
   ],
   "source": [
    "for i in myList:\n",
    "    print(i)\n",
    "\n",
    "\n",
    "if \"Banana\" in myList:\n",
    "    print(\"Yes\") \n",
    "else:\n",
    "    print(\"No\") "
   ]
  },
  {
   "cell_type": "markdown",
   "id": "526a9840",
   "metadata": {},
   "source": [
    "# Enumerate() method"
   ]
  },
  {
   "cell_type": "markdown",
   "id": "973ddaa4",
   "metadata": {},
   "source": [
    "Python enumerate()\n",
    "\n",
    "== The enumerate() method adds counter to an iterable and returns it (the enumerate object).\n",
    "\n",
    "Syntax: \n",
    "== enumerate(iterable, start=0)\n",
    "\n",
    "enumerate() method takes two parameters:\n",
    "\n",
    "== iterable - a sequence, an iterator, or objects that supports iteration\n",
    "== start (optional) - enumerate() starts counting from this number. If start is omitted, 0 is taken as start.\n",
    "\n"
   ]
  },
  {
   "cell_type": "code",
   "execution_count": 1,
   "id": "c657b976",
   "metadata": {},
   "outputs": [
    {
     "name": "stdout",
     "output_type": "stream",
     "text": [
      "[(0, 'banana'), (1, 'Mango'), (2, 'Oranges'), (3, 'Apples')]\n",
      "[(10, 'banana'), (11, 'Mango'), (12, 'Oranges'), (13, 'Apples')]\n"
     ]
    }
   ],
   "source": [
    "fruits = ['banana', 'Mango', 'Oranges','Apples']\n",
    "\n",
    "\"\"\"\n",
    "Default counter of 0\n",
    "\"\"\"\n",
    "print(list(enumerate(fruits)))\n",
    "\n",
    "fruitslist = enumerate(fruits, 10)\n",
    "print(list(fruitslist))"
   ]
  },
  {
   "cell_type": "markdown",
   "id": "6bb645c4",
   "metadata": {},
   "source": [
    "\n",
    "Example 2: Looping Over an Enumerate object\n"
   ]
  },
  {
   "cell_type": "code",
   "execution_count": null,
   "id": "3ef731a6",
   "metadata": {},
   "outputs": [],
   "source": [
    "grocery = ['bread', 'milk', 'butter']\n",
    "\n",
    "for item in enumerate(grocery):\n",
    "  print(item)\n",
    "\n",
    "print('\\n')\n",
    "for count, item in enumerate(grocery):\n",
    "  print(count, item)\n",
    "\n",
    "print('\\n')\n",
    "# changing default start value\n",
    "for count, item in enumerate(grocery, 100):\n",
    "  print(count, item)"
   ]
  },
  {
   "cell_type": "code",
   "execution_count": null,
   "id": "477fbdb8",
   "metadata": {},
   "outputs": [],
   "source": []
  }
 ],
 "metadata": {
  "interpreter": {
   "hash": "49a9b46fcb6d31049fc8c8f306a07b96087d95e2ef04548269751617087ec43b"
  },
  "kernelspec": {
   "display_name": "Python 3.9.0 64-bit",
   "language": "python",
   "name": "python3"
  },
  "language_info": {
   "codemirror_mode": {
    "name": "ipython",
    "version": 3
   },
   "file_extension": ".py",
   "mimetype": "text/x-python",
   "name": "python",
   "nbconvert_exporter": "python",
   "pygments_lexer": "ipython3",
   "version": "3.9.0"
  }
 },
 "nbformat": 4,
 "nbformat_minor": 5
}
